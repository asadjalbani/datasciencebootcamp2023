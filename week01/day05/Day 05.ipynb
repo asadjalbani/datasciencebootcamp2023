{
 "cells": [
  {
   "cell_type": "markdown",
   "id": "423121f2",
   "metadata": {},
   "source": [
    "# String Interpolation"
   ]
  },
  {
   "cell_type": "code",
   "execution_count": 1,
   "id": "c05f5ef5",
   "metadata": {},
   "outputs": [],
   "source": [
    "# It provides access to embedded python expressions inside string constants.\n",
    "name = 'Hello'\n",
    "program = ''"
   ]
  },
  {
   "cell_type": "code",
   "execution_count": 9,
   "id": "696990a1",
   "metadata": {},
   "outputs": [
    {
     "name": "stdout",
     "output_type": "stream",
     "text": [
      "12 multiply 3 is 36.\n"
     ]
    }
   ],
   "source": [
    "a = 12\n",
    "b = 3\n",
    "print(f'12 multiply 3 is { a * b}.')"
   ]
  },
  {
   "cell_type": "markdown",
   "id": "68d318f8",
   "metadata": {},
   "source": [
    "# % Formating in python"
   ]
  },
  {
   "cell_type": "code",
   "execution_count": 24,
   "id": "6a7004e0",
   "metadata": {},
   "outputs": [
    {
     "ename": "SyntaxError",
     "evalue": "invalid syntax. Perhaps you forgot a comma? (633687568.py, line 1)",
     "output_type": "error",
     "traceback": [
      "\u001b[1;36m  Cell \u001b[1;32mIn[24], line 1\u001b[1;36m\u001b[0m\n\u001b[1;33m    print(\"%s %s\"{'Hello', 'Duniya',})\u001b[0m\n\u001b[1;37m          ^\u001b[0m\n\u001b[1;31mSyntaxError\u001b[0m\u001b[1;31m:\u001b[0m invalid syntax. Perhaps you forgot a comma?\n"
     ]
    }
   ],
   "source": [
    "print(\"%s %s\",{'Hello', 'Duniya',})"
   ]
  },
  {
   "cell_type": "code",
   "execution_count": 19,
   "id": "3bcf3e58",
   "metadata": {},
   "outputs": [
    {
     "data": {
      "text/plain": [
       "'Duniya hello'"
      ]
     },
     "execution_count": 19,
     "metadata": {},
     "output_type": "execute_result"
    }
   ],
   "source": [
    "# str.format()\n",
    "\n",
    "string = 'hello'\n",
    "'Duniya {}'.format(string)"
   ]
  },
  {
   "cell_type": "code",
   "execution_count": 32,
   "id": "413bcfd3",
   "metadata": {},
   "outputs": [
    {
     "name": "stdout",
     "output_type": "stream",
     "text": [
      "(('Java', 3.3), ('Python', 3.1), ('JavaScript', 4.5)) <class 'tuple'>\n"
     ]
    }
   ],
   "source": [
    "# Python Zip() function\n",
    "lang = ['Java','Python','JavaScript']\n",
    "version = [3.3, 3.1, 4.5]\n",
    "\n",
    "result = zip(lang,version)\n",
    "print(list(result), type(list(result)))"
   ]
  },
  {
   "cell_type": "code",
   "execution_count": 33,
   "id": "5bf0ff67",
   "metadata": {},
   "outputs": [
    {
     "name": "stdout",
     "output_type": "stream",
     "text": [
      "(('Java', 3.3), ('Python', 3.1), ('JavaScript', 4.5)) <class 'tuple'>\n"
     ]
    }
   ],
   "source": [
    "# Python Zip() function\n",
    "lang = ['Java','Python','JavaScript']\n",
    "version = [3.3, 3.1, 4.5]\n",
    "\n",
    "result = zip(lang,version)\n",
    "print(tuple(result), type(tuple(result)))"
   ]
  },
  {
   "cell_type": "markdown",
   "id": "6dd09239",
   "metadata": {},
   "source": [
    "# The Great Pandas of Python :)"
   ]
  },
  {
   "cell_type": "code",
   "execution_count": 38,
   "id": "205bd6a8",
   "metadata": {},
   "outputs": [
    {
     "name": "stdout",
     "output_type": "stream",
     "text": [
      "a    1\n",
      "b    2\n",
      "c    3\n",
      "d    4\n",
      "Name: count, dtype: int64\n"
     ]
    }
   ],
   "source": [
    "# Importing Pandas\n",
    "import pandas as pd\n",
    "# data index and name\n",
    "str = pd.Series(data = [1,2,3,4],index = ['a','b','c','d'], name='count')\n",
    "print(str)"
   ]
  },
  {
   "cell_type": "code",
   "execution_count": 39,
   "id": "68c1e140",
   "metadata": {},
   "outputs": [
    {
     "name": "stdout",
     "output_type": "stream",
     "text": [
      "0    1\n",
      "1    2\n",
      "2    3\n",
      "3    4\n",
      "Name: count, dtype: int64\n"
     ]
    }
   ],
   "source": [
    "# Importing Pandas\n",
    "import pandas as pd\n",
    "# data and name\n",
    "str = pd.Series(data = [1,2,3,4], name='count')\n",
    "print(str)"
   ]
  },
  {
   "cell_type": "code",
   "execution_count": 42,
   "id": "660a85cd",
   "metadata": {},
   "outputs": [
    {
     "name": "stdout",
     "output_type": "stream",
     "text": [
      "0    1\n",
      "1    2\n",
      "2    3\n",
      "3    4\n",
      "dtype: int64\n",
      "Type:  <class 'pandas.core.series.Series'>\n"
     ]
    }
   ],
   "source": [
    "# Importing Pandas\n",
    "import pandas as pd\n",
    "# only data\n",
    "str = pd.Series(data = [1,2,3,4])\n",
    "print(str)\n",
    "print('Type: ',type(str))"
   ]
  },
  {
   "cell_type": "code",
   "execution_count": 43,
   "id": "411bf9d5",
   "metadata": {},
   "outputs": [
    {
     "data": {
      "text/plain": [
       "RangeIndex(start=0, stop=4, step=1)"
      ]
     },
     "execution_count": 43,
     "metadata": {},
     "output_type": "execute_result"
    }
   ],
   "source": [
    "str.index"
   ]
  },
  {
   "cell_type": "code",
   "execution_count": 45,
   "id": "4e97c0e4",
   "metadata": {},
   "outputs": [
    {
     "name": "stdout",
     "output_type": "stream",
     "text": [
      "0    0\n",
      "1    1\n",
      "2    2\n",
      "3    3\n",
      "dtype: int64\n"
     ]
    }
   ],
   "source": [
    "# Importing Pandas\n",
    "import pandas as pd\n",
    "# only data\n",
    "str = pd.Series(data = [i for i in range(4)])\n",
    "print(str)"
   ]
  },
  {
   "cell_type": "code",
   "execution_count": 47,
   "id": "a343cb40",
   "metadata": {},
   "outputs": [
    {
     "data": {
      "text/plain": [
       "0    False\n",
       "1    False\n",
       "2     True\n",
       "3     True\n",
       "dtype: bool"
      ]
     },
     "execution_count": 47,
     "metadata": {},
     "output_type": "execute_result"
    }
   ],
   "source": [
    "mask = str > str.median()\n",
    "mask"
   ]
  },
  {
   "cell_type": "code",
   "execution_count": 50,
   "id": "1fc5be0e",
   "metadata": {},
   "outputs": [
    {
     "data": {
      "text/plain": [
       "0     0\n",
       "1     1\n",
       "2     2\n",
       "3     9\n",
       "3     9\n",
       "4    22\n",
       "dtype: int64"
      ]
     },
     "execution_count": 50,
     "metadata": {},
     "output_type": "execute_result"
    }
   ],
   "source": [
    "# Updating Series \n",
    "str[3] =9\n",
    "str['4']= 22\n",
    "str"
   ]
  },
  {
   "cell_type": "code",
   "execution_count": 52,
   "id": "00cba63b",
   "metadata": {},
   "outputs": [
    {
     "data": {
      "text/plain": [
       "0    0\n",
       "1    1\n",
       "2    2\n",
       "3    9\n",
       "3    9\n",
       "dtype: int64"
      ]
     },
     "execution_count": 52,
     "metadata": {},
     "output_type": "execute_result"
    }
   ],
   "source": [
    "# Deleting Value\n",
    "del str['4']\n",
    "str"
   ]
  },
  {
   "cell_type": "code",
   "execution_count": 60,
   "id": "d3f4760b",
   "metadata": {},
   "outputs": [
    {
     "data": {
      "text/plain": [
       "0          0.0\n",
       "1          1.0\n",
       "2          2.0\n",
       "3          9.0\n",
       "3          9.0\n",
       "4.1        5.3\n",
       "4.14.1    10.6\n",
       "dtype: float64"
      ]
     },
     "execution_count": 60,
     "metadata": {},
     "output_type": "execute_result"
    }
   ],
   "source": [
    "# Index as float Value\n",
    "str['4.1'] = 5.3\n",
    "str"
   ]
  },
  {
   "cell_type": "code",
   "execution_count": 66,
   "id": "db5958b2",
   "metadata": {},
   "outputs": [
    {
     "name": "stdout",
     "output_type": "stream",
     "text": [
      "True\n"
     ]
    }
   ],
   "source": [
    "# checking index True or False\n",
    "print(str.index.is_unique)"
   ]
  },
  {
   "cell_type": "code",
   "execution_count": 71,
   "id": "61db52c9",
   "metadata": {},
   "outputs": [
    {
     "name": "stdout",
     "output_type": "stream",
     "text": [
      "1    1.0\n",
      "2    2.0\n",
      "dtype: float64\n"
     ]
    }
   ],
   "source": [
    "# slicing in Series\n",
    "print(str[1:3])"
   ]
  },
  {
   "cell_type": "code",
   "execution_count": 73,
   "id": "129c0e75",
   "metadata": {},
   "outputs": [
    {
     "data": {
      "text/plain": [
       "2.0"
      ]
     },
     "execution_count": 73,
     "metadata": {},
     "output_type": "execute_result"
    }
   ],
   "source": [
    "# loc for Custom Index\n",
    "# iloc for by default index\n",
    "str.loc[2]"
   ]
  },
  {
   "cell_type": "code",
   "execution_count": 127,
   "id": "59a6db4a",
   "metadata": {},
   "outputs": [
    {
     "data": {
      "text/plain": [
       "1     3.0\n",
       "2     NaN\n",
       "3    11.0\n",
       "4     9.0\n",
       "Name: counts, dtype: float64"
      ]
     },
     "execution_count": 127,
     "metadata": {},
     "output_type": "execute_result"
    }
   ],
   "source": [
    "songs = pd.Series(\n",
    "    data = [3, None, 11, 9], \n",
    "    index = ['1', '2','3', '4'], \n",
    "    name = 'counts')\n",
    "songs"
   ]
  },
  {
   "cell_type": "code",
   "execution_count": 128,
   "id": "015daa67",
   "metadata": {},
   "outputs": [
    {
     "name": "stdout",
     "output_type": "stream",
     "text": [
      "<zip object at 0x00000167A9293800>\n",
      "1 3.0\n",
      "2 nan\n",
      "3 11.0\n",
      "4 9.0\n"
     ]
    }
   ],
   "source": [
    "# Iterating over Series\n",
    "print(songs.items())\n",
    "for idx  , value in songs.items():\n",
    "    print(idx, value)"
   ]
  },
  {
   "cell_type": "code",
   "execution_count": 129,
   "id": "1f1a2c7e",
   "metadata": {},
   "outputs": [
    {
     "name": "stdout",
     "output_type": "stream",
     "text": [
      "[ 3. nan 11.  9.]\n",
      "3\n"
     ]
    }
   ],
   "source": [
    "# Unique \n",
    "print(songs.unique())\n",
    "print(songs.nunique())"
   ]
  },
  {
   "cell_type": "code",
   "execution_count": 130,
   "id": "c9a0dd74",
   "metadata": {},
   "outputs": [
    {
     "name": "stdout",
     "output_type": "stream",
     "text": [
      "1     3.0\n",
      "2     NaN\n",
      "3    11.0\n",
      "4     9.0\n",
      "Name: counts, dtype: float64\n"
     ]
    }
   ],
   "source": [
    "# drop duplicates\n",
    "\n",
    "print(songs.drop_duplicates())"
   ]
  },
  {
   "cell_type": "code",
   "execution_count": 131,
   "id": "7798f982",
   "metadata": {},
   "outputs": [
    {
     "data": {
      "text/plain": [
       "1    False\n",
       "2    False\n",
       "3    False\n",
       "4    False\n",
       "Name: counts, dtype: bool"
      ]
     },
     "execution_count": 131,
     "metadata": {},
     "output_type": "execute_result"
    }
   ],
   "source": [
    "# .duplicated()\n",
    "songs.duplicated()"
   ]
  },
  {
   "cell_type": "code",
   "execution_count": 132,
   "id": "48474a5e",
   "metadata": {},
   "outputs": [
    {
     "name": "stdout",
     "output_type": "stream",
     "text": [
      "1     3.0\n",
      "2     NaN\n",
      "3    11.0\n",
      "4     9.0\n",
      "Name: counts, dtype: float64\n"
     ]
    }
   ],
   "source": [
    "# groupby\n",
    "print(songs.groupby(songs.index).first())"
   ]
  },
  {
   "cell_type": "code",
   "execution_count": 133,
   "id": "f0603f90",
   "metadata": {},
   "outputs": [
    {
     "data": {
      "text/plain": [
       "23.0"
      ]
     },
     "execution_count": 133,
     "metadata": {},
     "output_type": "execute_result"
    }
   ],
   "source": [
    "# sum\n",
    "songs.sum()"
   ]
  },
  {
   "cell_type": "markdown",
   "id": "76977ee2",
   "metadata": {},
   "source": [
    "# DataFrame"
   ]
  },
  {
   "cell_type": "code",
   "execution_count": 139,
   "id": "c84ddc88",
   "metadata": {},
   "outputs": [
    {
     "name": "stdout",
     "output_type": "stream",
     "text": [
      "0     a\n",
      "1     b\n",
      "2     c\n",
      "3     d\n",
      "4     e\n",
      "5     f\n",
      "6     g\n",
      "7     h\n",
      "8     i\n",
      "9     j\n",
      "10    k\n",
      "11    l\n",
      "12    m\n",
      "13    n\n",
      "14    o\n",
      "15    p\n",
      "16    q\n",
      "17    r\n",
      "18    s\n",
      "19    t\n",
      "20    u\n",
      "21    v\n",
      "22    x\n",
      "23    y\n",
      "24    z\n",
      "dtype: object\n"
     ]
    }
   ],
   "source": [
    "import numpy as np\n",
    "ser1 = pd.Series(list('abcdefghijklmnopqrstuvxyz'))\n",
    "print(ser1)"
   ]
  },
  {
   "cell_type": "code",
   "execution_count": 140,
   "id": "b2673198",
   "metadata": {},
   "outputs": [
    {
     "name": "stdout",
     "output_type": "stream",
     "text": [
      "0      0\n",
      "1      1\n",
      "2      2\n",
      "3      3\n",
      "4      4\n",
      "5      5\n",
      "6      6\n",
      "7      7\n",
      "8      8\n",
      "9      9\n",
      "10    10\n",
      "11    11\n",
      "12    12\n",
      "13    13\n",
      "14    14\n",
      "15    15\n",
      "16    16\n",
      "17    17\n",
      "18    18\n",
      "19    19\n",
      "20    20\n",
      "21    21\n",
      "22    22\n",
      "23    23\n",
      "24    24\n",
      "25    25\n",
      "dtype: int32\n"
     ]
    }
   ],
   "source": [
    "ser2 = pd.Series(np.arange(26))\n",
    "print(ser2)"
   ]
  },
  {
   "cell_type": "code",
   "execution_count": 145,
   "id": "14ef37ea",
   "metadata": {},
   "outputs": [
    {
     "name": "stdout",
     "output_type": "stream",
     "text": [
      "   0  1\n",
      "0  a  0\n",
      "1  b  1\n",
      "2  c  2\n",
      "3  d  3\n",
      "4  e  4\n"
     ]
    }
   ],
   "source": [
    "# Solution1\n",
    "df = pd.concat([ser1,ser2], axis=1)\n",
    "print(df.head())"
   ]
  },
  {
   "cell_type": "code",
   "execution_count": 146,
   "id": "641138ec",
   "metadata": {},
   "outputs": [
    {
     "name": "stdout",
     "output_type": "stream",
     "text": [
      "  A-Z  Number\n",
      "0   a       0\n",
      "1   b       1\n",
      "2   c       2\n",
      "3   d       3\n",
      "4   e       4\n"
     ]
    }
   ],
   "source": [
    "# Solution2\n",
    "df = pd.DataFrame({'A-Z':ser1, 'Number':ser2})\n",
    "print(df.head())"
   ]
  },
  {
   "cell_type": "code",
   "execution_count": 149,
   "id": "07859fdd",
   "metadata": {},
   "outputs": [
    {
     "data": {
      "text/plain": [
       "0       a\n",
       "1       b\n",
       "2       c\n",
       "3       d\n",
       "4       e\n",
       "5       f\n",
       "6       g\n",
       "7       h\n",
       "8       i\n",
       "9       j\n",
       "10      k\n",
       "11      l\n",
       "12      m\n",
       "13      n\n",
       "14      o\n",
       "15      p\n",
       "16      q\n",
       "17      r\n",
       "18      s\n",
       "19      t\n",
       "20      u\n",
       "21      v\n",
       "22      x\n",
       "23      y\n",
       "24      z\n",
       "25    NaN\n",
       "Name: A-Z, dtype: object"
      ]
     },
     "execution_count": 149,
     "metadata": {},
     "output_type": "execute_result"
    }
   ],
   "source": [
    "# access columns\n",
    "df['A-Z']"
   ]
  },
  {
   "cell_type": "code",
   "execution_count": 150,
   "id": "eddbf7d9",
   "metadata": {},
   "outputs": [
    {
     "ename": "AttributeError",
     "evalue": "'tuple' object has no attribute 'shape'",
     "output_type": "error",
     "traceback": [
      "\u001b[1;31m---------------------------------------------------------------------------\u001b[0m",
      "\u001b[1;31mAttributeError\u001b[0m                            Traceback (most recent call last)",
      "Cell \u001b[1;32mIn[150], line 1\u001b[0m\n\u001b[1;32m----> 1\u001b[0m \u001b[43m(\u001b[49m\u001b[38;5;241;43m2\u001b[39;49m\u001b[43m,\u001b[49m\u001b[38;5;241;43m3\u001b[39;49m\u001b[43m,\u001b[49m\u001b[38;5;241;43m4\u001b[39;49m\u001b[43m)\u001b[49m\u001b[38;5;241;43m.\u001b[39;49m\u001b[43mshape\u001b[49m()\n",
      "\u001b[1;31mAttributeError\u001b[0m: 'tuple' object has no attribute 'shape'"
     ]
    }
   ],
   "source": []
  },
  {
   "cell_type": "code",
   "execution_count": null,
   "id": "a9621717",
   "metadata": {},
   "outputs": [],
   "source": []
  }
 ],
 "metadata": {
  "kernelspec": {
   "display_name": "Python 3 (ipykernel)",
   "language": "python",
   "name": "python3"
  },
  "language_info": {
   "codemirror_mode": {
    "name": "ipython",
    "version": 3
   },
   "file_extension": ".py",
   "mimetype": "text/x-python",
   "name": "python",
   "nbconvert_exporter": "python",
   "pygments_lexer": "ipython3",
   "version": "3.10.9"
  }
 },
 "nbformat": 4,
 "nbformat_minor": 5
}
