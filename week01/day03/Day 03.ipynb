{
 "cells": [
  {
   "cell_type": "markdown",
   "id": "13485771",
   "metadata": {},
   "source": [
    "# Format Expression"
   ]
  },
  {
   "cell_type": "code",
   "execution_count": 15,
   "id": "9058c618",
   "metadata": {},
   "outputs": [
    {
     "name": "stdout",
     "output_type": "stream",
     "text": [
      "f\n"
     ]
    }
   ],
   "source": [
    "x = 15\n",
    "print('{:x}'.format(x))"
   ]
  },
  {
   "cell_type": "code",
   "execution_count": 18,
   "id": "c96b4b5a",
   "metadata": {},
   "outputs": [
    {
     "name": "stdout",
     "output_type": "stream",
     "text": [
      "0.50\n"
     ]
    }
   ],
   "source": [
    "print('{:.2f}'.format(0.5))"
   ]
  },
  {
   "cell_type": "code",
   "execution_count": 23,
   "id": "7386684b",
   "metadata": {},
   "outputs": [
    {
     "name": "stdout",
     "output_type": "stream",
     "text": [
      "asd\n"
     ]
    }
   ],
   "source": [
    "print('{:s}'.format(\"asd\"))"
   ]
  },
  {
   "cell_type": "code",
   "execution_count": 24,
   "id": "207b28a3",
   "metadata": {},
   "outputs": [
    {
     "data": {
      "text/plain": [
       "'a b c 1 a b c'"
      ]
     },
     "execution_count": 24,
     "metadata": {},
     "output_type": "execute_result"
    }
   ],
   "source": [
    "c=1\n",
    "'a b c %d a b c' %c"
   ]
  },
  {
   "cell_type": "code",
   "execution_count": 25,
   "id": "ed91f3c7",
   "metadata": {},
   "outputs": [
    {
     "data": {
      "text/plain": [
       "'Me'"
      ]
     },
     "execution_count": 25,
     "metadata": {},
     "output_type": "execute_result"
    }
   ],
   "source": [
    "'{:.2s}'.format('MetaPi')"
   ]
  },
  {
   "cell_type": "code",
   "execution_count": 35,
   "id": "5942e599",
   "metadata": {},
   "outputs": [
    {
     "data": {
      "text/plain": [
       "'PY    '"
      ]
     },
     "execution_count": 35,
     "metadata": {},
     "output_type": "execute_result"
    }
   ],
   "source": [
    "'{:6s}'.format('PY')"
   ]
  },
  {
   "cell_type": "code",
   "execution_count": 31,
   "id": "64aa5164",
   "metadata": {},
   "outputs": [
    {
     "data": {
      "text/plain": [
       "'    py'"
      ]
     },
     "execution_count": 31,
     "metadata": {},
     "output_type": "execute_result"
    }
   ],
   "source": [
    "'{:>6s}'.format('py')"
   ]
  },
  {
   "cell_type": "code",
   "execution_count": 36,
   "id": "e37d1d9a",
   "metadata": {},
   "outputs": [
    {
     "data": {
      "text/plain": [
       "'  py  '"
      ]
     },
     "execution_count": 36,
     "metadata": {},
     "output_type": "execute_result"
    }
   ],
   "source": [
    "'{:^6s}'.format('py')"
   ]
  },
  {
   "cell_type": "markdown",
   "id": "b179ebce",
   "metadata": {},
   "source": [
    "# File Handling"
   ]
  },
  {
   "cell_type": "code",
   "execution_count": 55,
   "id": "c7269139",
   "metadata": {},
   "outputs": [
    {
     "name": "stdout",
     "output_type": "stream",
     "text": [
      "<_io.TextIOWrapper name='C:/Users/asad/nfile' mode='r' encoding='cp1252'>\n"
     ]
    }
   ],
   "source": [
    "#Accessing File\n",
    "\n",
    "path = 'C:/Users/asad/nfile'\n",
    "fhand = open(path)\n",
    "print(fhand)"
   ]
  },
  {
   "cell_type": "code",
   "execution_count": 57,
   "id": "d1111f7a",
   "metadata": {},
   "outputs": [
    {
     "name": "stdout",
     "output_type": "stream",
     "text": [
      "Line Count:  1\n",
      "<_io.TextIOWrapper name='C:/Users/asad/nfile' mode='r' encoding='cp1252'>\n"
     ]
    }
   ],
   "source": [
    "#Reading File & Counting Lines\n",
    "\n",
    "path = 'C:/Users/asad/nfile'\n",
    "fhand = open(path)\n",
    "count = 0\n",
    "for line in fhand:\n",
    "    count = count + 1\n",
    "    print(\"Line Count: \",count)\n",
    "print(fhand)"
   ]
  },
  {
   "cell_type": "code",
   "execution_count": 58,
   "id": "cb37d557",
   "metadata": {},
   "outputs": [
    {
     "name": "stdout",
     "output_type": "stream",
     "text": [
      "asad jalbani at metapi\n"
     ]
    }
   ],
   "source": [
    "#Reading File\n",
    "\n",
    "path = 'C:/Users/asad/nfile'\n",
    "fhand = open(path)\n",
    "for line in fhand:\n",
    "   print(line)"
   ]
  },
  {
   "cell_type": "code",
   "execution_count": 59,
   "id": "a591530a",
   "metadata": {},
   "outputs": [
    {
     "name": "stdout",
     "output_type": "stream",
     "text": [
      "asad jalbani at metapi\n"
     ]
    }
   ],
   "source": [
    "#Reading File ith pre-defined function //read()\n",
    "\n",
    "path = 'C:/Users/asad/nfile'\n",
    "fhand = open(path)\n",
    "print(fhand.read())"
   ]
  },
  {
   "cell_type": "code",
   "execution_count": 62,
   "id": "a8260f4e",
   "metadata": {},
   "outputs": [
    {
     "name": "stdout",
     "output_type": "stream",
     "text": [
      "asad jalbani at metapi\n"
     ]
    }
   ],
   "source": [
    "#Reading File if else condition\n",
    "\n",
    "path = 'C:/Users/asad/nfile'\n",
    "fhand = open(path)\n",
    "for line in fhand:\n",
    "    if line.startswith('a'):\n",
    "        print(line)\n",
    "        "
   ]
  },
  {
   "cell_type": "code",
   "execution_count": 66,
   "id": "99e4f959",
   "metadata": {},
   "outputs": [
    {
     "name": "stdout",
     "output_type": "stream",
     "text": [
      "Enter your file name \n",
      "nfile\n",
      "asad jalbani at metapi\n"
     ]
    }
   ],
   "source": [
    "#Dynamically Accessing file by giving name\n",
    "\n",
    "file = input(\"Enter your file name \\n\")\n",
    "try:\n",
    "    fhand = open(file)\n",
    "    for line in fhand:\n",
    "        print(line)\n",
    "except PathError:\n",
    "    print(\"You have invalid path.\")\n",
    "        "
   ]
  },
  {
   "cell_type": "code",
   "execution_count": 68,
   "id": "822e5a11",
   "metadata": {},
   "outputs": [
    {
     "name": "stdout",
     "output_type": "stream",
     "text": [
      "<_io.TextIOWrapper name='nfile1' mode='w' encoding='cp1252'>\n"
     ]
    }
   ],
   "source": [
    "#Opening file 'w'\n",
    "\n",
    "fout = open('nfile1', 'w')\n",
    "print(fout)"
   ]
  },
  {
   "cell_type": "code",
   "execution_count": 77,
   "id": "d346bac2",
   "metadata": {},
   "outputs": [
    {
     "data": {
      "text/plain": [
       "28"
      ]
     },
     "execution_count": 77,
     "metadata": {},
     "output_type": "execute_result"
    }
   ],
   "source": [
    "#writing to file'\n",
    "\n",
    "fout = open('nfile1', 'w')\n",
    "fout.write(\"Hello orld herefasfsdfdf is \")\n"
   ]
  },
  {
   "cell_type": "code",
   "execution_count": 78,
   "id": "2438558a",
   "metadata": {},
   "outputs": [
    {
     "name": "stdout",
     "output_type": "stream",
     "text": [
      "Hello orld herefasfsdfdf is \n"
     ]
    }
   ],
   "source": [
    "fout = open('nfile1')\n",
    "print(fout.read())"
   ]
  },
  {
   "cell_type": "markdown",
   "id": "f81a1299",
   "metadata": {},
   "source": [
    "# List in python"
   ]
  },
  {
   "cell_type": "code",
   "execution_count": 92,
   "id": "0518ed0b",
   "metadata": {},
   "outputs": [
    {
     "name": "stdout",
     "output_type": "stream",
     "text": [
      "<class 'list'>\n",
      "['chddar', 'eddas', 'Gonda'] [48, 123] []\n",
      "48\n"
     ]
    }
   ],
   "source": [
    "cheeses = ['chddar', 'eddas', 'Gonda']\n",
    "numbers = [17, 123]\n",
    "numbers[0] = 48\n",
    "empty = []\n",
    "print(type(empty))\n",
    "print(cheeses, numbers, empty)\n",
    "print(numbers[0])"
   ]
  },
  {
   "cell_type": "markdown",
   "id": "1494bb51",
   "metadata": {},
   "source": [
    "Traversing a list"
   ]
  },
  {
   "cell_type": "code",
   "execution_count": 93,
   "id": "1765191c",
   "metadata": {},
   "outputs": [
    {
     "name": "stdout",
     "output_type": "stream",
     "text": [
      "[2, 4, 6, 8, 10]\n"
     ]
    }
   ],
   "source": [
    "numbers = [1,2,3,4,5]\n",
    "\n",
    "for i in range(len(numbers)):\n",
    "    numbers[i] = numbers[i]*2\n",
    "print(numbers)    "
   ]
  },
  {
   "cell_type": "markdown",
   "id": "3e087d3f",
   "metadata": {},
   "source": [
    "List Slices"
   ]
  },
  {
   "cell_type": "code",
   "execution_count": 95,
   "id": "d5f472ff",
   "metadata": {},
   "outputs": [
    {
     "name": "stdout",
     "output_type": "stream",
     "text": [
      "['b', 'c']\n",
      "['a', 'b', 'c', 'd']\n",
      "['d', 'e', 'f']\n"
     ]
    }
   ],
   "source": [
    "#Slicing \n",
    "t = ['a','b','c','d','e','f']\n",
    "print(t[1:3])\n",
    "print(t[:4])\n",
    "print(t[3:])"
   ]
  },
  {
   "cell_type": "code",
   "execution_count": 99,
   "id": "4b8abb1b",
   "metadata": {},
   "outputs": [
    {
     "name": "stdout",
     "output_type": "stream",
     "text": [
      "['b']\n"
     ]
    }
   ],
   "source": [
    "#Slicing using iteration\n",
    "t = ['a','b','c','d','e','f']\n",
    "print(t[1:2:1])"
   ]
  },
  {
   "cell_type": "code",
   "execution_count": 101,
   "id": "ac05f938",
   "metadata": {},
   "outputs": [
    {
     "name": "stdout",
     "output_type": "stream",
     "text": [
      "['f', 'd', 'b']\n"
     ]
    }
   ],
   "source": [
    "#Slicing using iteration in reverse\n",
    "t = ['a','b','c','d','e','f']\n",
    "print(t[::-2])"
   ]
  },
  {
   "cell_type": "code",
   "execution_count": 104,
   "id": "58e0baf6",
   "metadata": {},
   "outputs": [
    {
     "name": "stdout",
     "output_type": "stream",
     "text": [
      "['a', 'b', 'c', 'd']\n"
     ]
    }
   ],
   "source": [
    "#Appending at the end\n",
    "t = ['a','b','c']\n",
    "t.append('d')\n",
    "print(t)"
   ]
  },
  {
   "cell_type": "code",
   "execution_count": 108,
   "id": "61a5d070",
   "metadata": {},
   "outputs": [
    {
     "name": "stdout",
     "output_type": "stream",
     "text": [
      "['a', 'f', 'c', 'd', 'e']\n"
     ]
    }
   ],
   "source": [
    "#Extending 2 list into single\n",
    "t1= ['a','f','c']\n",
    "t2 = ['d','e']\n",
    "t1.extend(t2)\n",
    "print(t1)\n"
   ]
  },
  {
   "cell_type": "code",
   "execution_count": 113,
   "id": "01d4db48",
   "metadata": {},
   "outputs": [
    {
     "name": "stdout",
     "output_type": "stream",
     "text": [
      "[2, 6, 7]\n"
     ]
    }
   ],
   "source": [
    "#Sorting list\n",
    "num = [2,7,6]\n",
    "num.sort();\n",
    "print(num)"
   ]
  },
  {
   "cell_type": "code",
   "execution_count": 115,
   "id": "ee086d00",
   "metadata": {},
   "outputs": [
    {
     "name": "stdout",
     "output_type": "stream",
     "text": [
      "['a', 'c']\n",
      "['a', 'c']\n",
      "['a', 'c']\n"
     ]
    }
   ],
   "source": [
    "t = ['a','b','c']\n",
    "x = t.pop(1)\n",
    "print(t)\n",
    "\n",
    "t = ['a','b','c']\n",
    "del t[1]\n",
    "print(t)\n",
    "\n",
    "t = ['a','b','c']\n",
    "t.remove('b')\n",
    "print(t)"
   ]
  },
  {
   "cell_type": "markdown",
   "id": "b72b66e2",
   "metadata": {},
   "source": [
    "There are a number of built-in-function that can be used can be used on lists that allow you to quickly look through a list without ringin own loops"
   ]
  },
  {
   "cell_type": "markdown",
   "id": "82002977",
   "metadata": {},
   "source": [
    "Calculating average ith list"
   ]
  },
  {
   "cell_type": "code",
   "execution_count": 117,
   "id": "acb84967",
   "metadata": {},
   "outputs": [
    {
     "name": "stdout",
     "output_type": "stream",
     "text": [
      "Keep Entering Number5\n",
      "Keep Entering Number6\n",
      "Keep Entering Number1\n",
      "Keep Entering Number2\n",
      "Keep Entering Number34\n",
      "Keep Entering Number5\n",
      "Keep Entering Numberdone\n",
      "Average:  8.833333333333334\n"
     ]
    }
   ],
   "source": [
    "#Average\n",
    "numlist = list()\n",
    "\n",
    "while True:\n",
    "    inp = input(\"Keep Entering Number\")\n",
    "    if inp == 'done': break\n",
    "    value = float(inp)\n",
    "    numlist.append(value)\n",
    "average = sum(numlist)/len(numlist)\n",
    "print(\"Average: \", average)"
   ]
  },
  {
   "cell_type": "code",
   "execution_count": 118,
   "id": "faabbc73",
   "metadata": {},
   "outputs": [
    {
     "name": "stdout",
     "output_type": "stream",
     "text": [
      "['i', 's', 'l', 'a', 'm', 'a', 'b', 'a', 'd']\n"
     ]
    }
   ],
   "source": [
    "#Convert string into list of characters\n",
    "s = 'islamabad'\n",
    "t = list(s)\n",
    "print(t)"
   ]
  },
  {
   "cell_type": "code",
   "execution_count": 121,
   "id": "f22dab8a",
   "metadata": {},
   "outputs": [
    {
     "name": "stdout",
     "output_type": "stream",
     "text": [
      "['islamabad']\n"
     ]
    }
   ],
   "source": [
    "#Convert string into list of characters\n",
    "s = 'islamabad'\n",
    "print(s.split())"
   ]
  },
  {
   "cell_type": "code",
   "execution_count": 123,
   "id": "3af4abc3",
   "metadata": {},
   "outputs": [
    {
     "name": "stdout",
     "output_type": "stream",
     "text": [
      "['a', 'b', 'c', 'd']\n"
     ]
    }
   ],
   "source": [
    "#Making list using loop in list\n",
    "string = 'abcd'\n",
    "t = [i for i in string]\n",
    "print(t)"
   ]
  },
  {
   "cell_type": "code",
   "execution_count": 125,
   "id": "e78bd0b9",
   "metadata": {},
   "outputs": [
    {
     "name": "stdout",
     "output_type": "stream",
     "text": [
      "['spam', 'spam', 'spam']\n",
      "I-AM-Running\n"
     ]
    }
   ],
   "source": [
    "#Delimiter\n",
    "s = 'spam-spam-spam'\n",
    "delimiter = '-'\n",
    "print(s.split(delimiter))\n",
    "\n",
    "t = ['I','AM','Running']\n",
    "print(delimiter.join(t))"
   ]
  },
  {
   "cell_type": "code",
   "execution_count": null,
   "id": "d896ffb8",
   "metadata": {},
   "outputs": [],
   "source": []
  }
 ],
 "metadata": {
  "kernelspec": {
   "display_name": "Python 3 (ipykernel)",
   "language": "python",
   "name": "python3"
  },
  "language_info": {
   "codemirror_mode": {
    "name": "ipython",
    "version": 3
   },
   "file_extension": ".py",
   "mimetype": "text/x-python",
   "name": "python",
   "nbconvert_exporter": "python",
   "pygments_lexer": "ipython3",
   "version": "3.10.9"
  }
 },
 "nbformat": 4,
 "nbformat_minor": 5
}
