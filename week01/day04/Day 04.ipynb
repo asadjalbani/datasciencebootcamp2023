{
 "cells": [
  {
   "cell_type": "markdown",
   "id": "94468526",
   "metadata": {},
   "source": [
    "# Day 04 Jupyter Notebook - Class Lecture and Tasks\n",
    "# Asad Ahmed Jalbani"
   ]
  },
  {
   "cell_type": "code",
   "execution_count": 10,
   "id": "a4706935",
   "metadata": {},
   "outputs": [
    {
     "name": "stdout",
     "output_type": "stream",
     "text": [
      "[1, 2, 2]\n",
      "[1, 2, 2, 3]\n",
      "False\n",
      "False\n",
      "False\n"
     ]
    }
   ],
   "source": [
    "#List Arguments\n",
    "t1 = [1, 2]\n",
    "t2 = t1.append(2) #while appending does not assign value\n",
    "print(t1)\n",
    "\n",
    "t3 = t1 + [3]\n",
    "print(t3)\n",
    "\n",
    "print(t1 is t2)\n",
    "\n",
    "t4 = [1,2,3,4]\n",
    "print(t4 is t3)\n",
    "\n",
    "t5 = ['hello']\n",
    "print(t5 is t4)"
   ]
  },
  {
   "cell_type": "code",
   "execution_count": 19,
   "id": "02b2b6ec",
   "metadata": {},
   "outputs": [
    {
     "name": "stdout",
     "output_type": "stream",
     "text": [
      "True\n",
      "T1 =  [100, 4]\n",
      "True\n"
     ]
    }
   ],
   "source": [
    "t1 = [2,4]\n",
    "t2 = t1 #this is referencing the same location of t1\n",
    "print(t2 is t1)\n",
    "\n",
    "t1[0] = 100\n",
    "print(\"T1 = \", t1)\n",
    "print(t2 is t1)"
   ]
  },
  {
   "cell_type": "markdown",
   "id": "9365bac1",
   "metadata": {},
   "source": [
    "## Tuples\n",
    "A tuple in python si similar to list."
   ]
  },
  {
   "cell_type": "code",
   "execution_count": 23,
   "id": "0400f491",
   "metadata": {},
   "outputs": [
    {
     "name": "stdout",
     "output_type": "stream",
     "text": [
      "()\n",
      "(1, 2, 3, 4, 5)\n",
      "(1, 'hello', 9.9, 'b')\n",
      "<class 'tuple'>\n"
     ]
    }
   ],
   "source": [
    "# Empty tuplbe\n",
    "my_tuple = ()\n",
    "print(my_tuple)\n",
    "\n",
    "# tuple having integers\n",
    "my_tuple = (1,2,3,4,5)\n",
    "print(my_tuple)\n",
    "\n",
    "#tuple + mixed datatypes\n",
    "my_tuple = (1,'hello',9.9,'b')\n",
    "print(my_tuple)\n",
    "\n",
    "print(type(my_tuple))"
   ]
  },
  {
   "cell_type": "code",
   "execution_count": 25,
   "id": "69c3ae72",
   "metadata": {},
   "outputs": [
    {
     "name": "stdout",
     "output_type": "stream",
     "text": [
      "(1, 2, 3)\n",
      "(1, 'hello', 3.4)\n"
     ]
    }
   ],
   "source": [
    "#tuple using \n",
    "my_tuple = 1,2,3\n",
    "print(my_tuple)\n",
    "\n",
    "my_tuple = 1, 'hello', 3.4\n",
    "print(my_tuple)"
   ]
  },
  {
   "cell_type": "code",
   "execution_count": 26,
   "id": "68483db9",
   "metadata": {},
   "outputs": [
    {
     "name": "stdout",
     "output_type": "stream",
     "text": [
      "Hello  Type:   <class 'str'>\n",
      "('Hello',)  Type:  <class 'tuple'>\n"
     ]
    }
   ],
   "source": [
    "#create tuple ith one element\n",
    "var1 = (\"Hello\")\n",
    "print(var1, ' Type:  ', type(var1))\n",
    "\n",
    "var2 = (\"Hello\",)\n",
    "print(var2, ' Type: ',type(var2))"
   ]
  },
  {
   "cell_type": "markdown",
   "id": "806adeaa",
   "metadata": {},
   "source": [
    "## Accessing Elements"
   ]
  },
  {
   "cell_type": "code",
   "execution_count": 28,
   "id": "b1eabf4b",
   "metadata": {},
   "outputs": [
    {
     "name": "stdout",
     "output_type": "stream",
     "text": [
      "z\n",
      "a\n"
     ]
    }
   ],
   "source": [
    "letters = ('p','r','o','g','r','a','m','i','z')\n",
    "print(letters[-1]) #print z\n",
    "print(letters[-4]) #print a"
   ]
  },
  {
   "cell_type": "markdown",
   "id": "6a6aef8d",
   "metadata": {},
   "source": [
    "## Tuple Slicing"
   ]
  },
  {
   "cell_type": "code",
   "execution_count": 30,
   "id": "1f0423c3",
   "metadata": {},
   "outputs": [
    {
     "name": "stdout",
     "output_type": "stream",
     "text": [
      "('r', 'o', 'g', 'r')\n"
     ]
    }
   ],
   "source": [
    "print(letters[1:5])"
   ]
  },
  {
   "cell_type": "code",
   "execution_count": 33,
   "id": "678b8d78",
   "metadata": {},
   "outputs": [
    {
     "name": "stdout",
     "output_type": "stream",
     "text": [
      "[1, 2, 3, 4, 8]\n",
      "(1, 2)\n",
      "([1, 2, 3, 4, 8], 6)\n"
     ]
    }
   ],
   "source": [
    "list = [1,2,3,4,8]\n",
    "print(list)\n",
    "\n",
    "tuple = (1,2)\n",
    "print(tuple)\n",
    "\n",
    "tuple = (list,6)\n",
    "print(tuple)"
   ]
  },
  {
   "cell_type": "code",
   "execution_count": 36,
   "id": "15dd3d68",
   "metadata": {},
   "outputs": [
    {
     "name": "stdout",
     "output_type": "stream",
     "text": [
      "9\n"
     ]
    }
   ],
   "source": [
    "tuple[0][2] = 9\n",
    "print(tuple[0][2])"
   ]
  },
  {
   "cell_type": "code",
   "execution_count": 39,
   "id": "5d8d9b2c",
   "metadata": {},
   "outputs": [
    {
     "name": "stdout",
     "output_type": "stream",
     "text": [
      "8\n",
      "2\n"
     ]
    }
   ],
   "source": [
    "#There are only 2 methods in tuple index and count\n",
    "\n",
    "letters = ('p','r','o','g','r','a','m','i','z')\n",
    "print(letters.index('z'))\n",
    "print(letters.count('r'))"
   ]
  },
  {
   "cell_type": "code",
   "execution_count": 41,
   "id": "515965e5",
   "metadata": {},
   "outputs": [
    {
     "name": "stdout",
     "output_type": "stream",
     "text": [
      "p\n",
      "r\n",
      "o\n",
      "g\n",
      "r\n",
      "a\n",
      "m\n",
      "i\n",
      "z\n"
     ]
    }
   ],
   "source": [
    "#Iterating through a Tuple\n",
    "\n",
    "letters = ('p','r','o','g','r','a','m','i','z')\n",
    "for i in letters:\n",
    "    print(i)"
   ]
  },
  {
   "cell_type": "code",
   "execution_count": 43,
   "id": "794e6bb8",
   "metadata": {},
   "outputs": [
    {
     "name": "stdout",
     "output_type": "stream",
     "text": [
      "False\n",
      "True\n"
     ]
    }
   ],
   "source": [
    "#check if item exist of not\n",
    "\n",
    "letters = ('p','r','o','g','r','a','m','i','z')\n",
    "print('C' in letters) #False\n",
    "print('m' in letters) #True"
   ]
  },
  {
   "cell_type": "code",
   "execution_count": 44,
   "id": "de9b76c6",
   "metadata": {},
   "outputs": [
    {
     "name": "stdout",
     "output_type": "stream",
     "text": [
      "True\n"
     ]
    }
   ],
   "source": [
    "#check if item exist in string\n",
    "\n",
    "string = 'asad'\n",
    "print(\"d\" in string) # True"
   ]
  },
  {
   "cell_type": "code",
   "execution_count": 46,
   "id": "e0d40a28",
   "metadata": {},
   "outputs": [
    {
     "data": {
      "text/plain": [
       "True"
      ]
     },
     "execution_count": 46,
     "metadata": {},
     "output_type": "execute_result"
    }
   ],
   "source": [
    "#Aliasing\n",
    "\n",
    "a = [1,2,3]\n",
    "a[1] = 10\n",
    "b = a\n",
    "b is a"
   ]
  },
  {
   "cell_type": "markdown",
   "id": "f43b687f",
   "metadata": {},
   "source": [
    "# Dictionaries\n",
    "\n",
    "## There is no index in dictionary, you need find key value pair here"
   ]
  },
  {
   "cell_type": "code",
   "execution_count": 50,
   "id": "f53b5401",
   "metadata": {},
   "outputs": [
    {
     "name": "stdout",
     "output_type": "stream",
     "text": [
      "value1\n",
      "{'key1': 'value1', 'key2': 'updated value', 'key3': 'value3'}\n"
     ]
    }
   ],
   "source": [
    "# creating a dictionary\n",
    "my_dict = {'key1':'value1', 'key2':'value2', 'key3':'value3'}\n",
    "\n",
    "# Accessing ditionary value\n",
    "print(my_dict['key1'])\n",
    "\n",
    "# Modifying value\n",
    "my_dict['key2'] = 'updated value'\n",
    "print(my_dict)"
   ]
  },
  {
   "cell_type": "code",
   "execution_count": 56,
   "id": "d788b533",
   "metadata": {},
   "outputs": [
    {
     "name": "stdout",
     "output_type": "stream",
     "text": [
      "{'name': 'asad', 'age': 23, 'city': 'Islamabad'}\n",
      "Type:  <class 'dict'>\n",
      "{'name': 'asad', 'age': 24, 'city': 'Islamabad'}\n",
      "{'name': 'asad', 'city': 'Islamabad'}\n",
      "{'name': 'asad', 'city': 'Islamabad', 'Job Role': 'Data Science Trainee'}\n"
     ]
    }
   ],
   "source": [
    "# Creating a dictionary usng dict() constructor\n",
    "# Adding value in dictionary \n",
    "d = dict(name='asad',age=23, city='Islamabad')\n",
    "print(d)\n",
    "print('Type: ',type(d))\n"
   ]
  },
  {
   "cell_type": "code",
   "execution_count": 57,
   "id": "6c952cda",
   "metadata": {},
   "outputs": [
    {
     "name": "stdout",
     "output_type": "stream",
     "text": [
      "{'name': 'asad', 'city': 'Islamabad', 'Job Role': 'Data Science Trainee', 'age': 24}\n"
     ]
    }
   ],
   "source": [
    "# Updating Value in dictionary\n",
    "d['age'] = 24\n",
    "print(d)"
   ]
  },
  {
   "cell_type": "code",
   "execution_count": 58,
   "id": "f1eb9f0f",
   "metadata": {},
   "outputs": [
    {
     "name": "stdout",
     "output_type": "stream",
     "text": [
      "{'name': 'asad', 'city': 'Islamabad', 'Job Role': 'Data Science Trainee'}\n"
     ]
    }
   ],
   "source": [
    "# Removing a value in dictionary\n",
    "del d['age']\n",
    "print(d)\n"
   ]
  },
  {
   "cell_type": "code",
   "execution_count": 59,
   "id": "156ad81c",
   "metadata": {},
   "outputs": [
    {
     "name": "stdout",
     "output_type": "stream",
     "text": [
      "{'name': 'asad', 'city': 'Islamabad', 'Job Role': 'Data Science Trainee'}\n"
     ]
    }
   ],
   "source": [
    "# Adding Value in dictionary \n",
    "\n",
    "d['Job Role'] = 'Data Science Trainee'\n",
    "print(d)"
   ]
  },
  {
   "cell_type": "code",
   "execution_count": 61,
   "id": "ae73c6d4",
   "metadata": {},
   "outputs": [
    {
     "name": "stdout",
     "output_type": "stream",
     "text": [
      "3\n",
      "True\n"
     ]
    }
   ],
   "source": [
    "# Checking length of dictionary\n",
    "print(len(d)) # 3\n",
    "\n",
    "#Checking if key exists\n",
    "print(\"name\" in d) # True"
   ]
  },
  {
   "cell_type": "code",
   "execution_count": 70,
   "id": "de8d7cd5",
   "metadata": {},
   "outputs": [
    {
     "name": "stdout",
     "output_type": "stream",
     "text": [
      "Keys:  dict_keys(['name', 'city', 'Job Role'])\n",
      "Values:  dict_values(['asad', 'Islamabad', 'Data Science Trainee'])\n",
      "Items:  dict_items([('name', 'asad'), ('city', 'Islamabad'), ('Job Role', 'Data Science Trainee')])\n",
      "Value:  Islamabad\n"
     ]
    }
   ],
   "source": [
    "# keys()\n",
    "print('Keys: ',d.keys())\n",
    "\n",
    "# values()\n",
    "print('Values: ',d.values())\n",
    "\n",
    "# items()\n",
    "print('Items: ',d.items())\n",
    "\n",
    "# get()\n",
    "print('Value: ',d.get('city'))"
   ]
  },
  {
   "cell_type": "code",
   "execution_count": 99,
   "id": "acfedb71",
   "metadata": {},
   "outputs": [
    {
     "name": "stdout",
     "output_type": "stream",
     "text": [
      "{'b', 'c', 'a'}\n"
     ]
    }
   ],
   "source": [
    "# Nested Dictionaries \n",
    "person = {\n",
    "    '1': {'name': 'asad1', 'age': '20', 'job':'soft'},\n",
    "    '2': {'name': 'asad2', 'age': '21', 'job':'soft1'},\n",
    "    '3': {'name': 'asad3', 'age': '22', 'job':{'a','b','c'}},\n",
    "    '4': {'name': 'asad4', 'age': '23', 'job':'soft3'},\n",
    "    '5': {'name': 'asad5', 'age': '24', 'job':'soft4'},\n",
    "}\n",
    "print(person['3']['job'])"
   ]
  },
  {
   "cell_type": "code",
   "execution_count": 104,
   "id": "38e38225",
   "metadata": {},
   "outputs": [
    {
     "name": "stdout",
     "output_type": "stream",
     "text": [
      "{'c', 'b3', 'a', 'b', '3'}\n"
     ]
    }
   ],
   "source": [
    "# Updating b1 value\n",
    "person['3']['job'].update('b3')\n",
    "print(person['3']['job'])"
   ]
  },
  {
   "cell_type": "code",
   "execution_count": 107,
   "id": "dbd31533",
   "metadata": {},
   "outputs": [
    {
     "name": "stdout",
     "output_type": "stream",
     "text": [
      "{'1': {'name': 'asad1', 'age': '20', 'job': 'soft'}, '2': {'name': 'asad2', 'age': '21', 'job': 'soft1'}, '3': {'name': 'asad3', 'age': '22', 'job': {'c', 'b3', 'a', 'b', '3'}}, '4': {'name': 'asad4', 'age': '23', 'job': 'soft3'}, '5': {'name': 'asad5', 'age': '24', 'job': 'soft4'}}\n"
     ]
    }
   ],
   "source": [
    "# appending value at last\n",
    "person['3']['job'].add('b3')\n",
    "print(person)"
   ]
  },
  {
   "cell_type": "markdown",
   "id": "6be67a37",
   "metadata": {},
   "source": [
    "# Module in Python"
   ]
  },
  {
   "cell_type": "code",
   "execution_count": 109,
   "id": "a5266151",
   "metadata": {},
   "outputs": [
    {
     "name": "stdout",
     "output_type": "stream",
     "text": [
      "[1 2 3]\n"
     ]
    }
   ],
   "source": [
    "import numpy as np\n",
    "\n",
    "# create list named list1\n",
    "list1 = [1,2,3]\n",
    "\n",
    "# create numpy array from list\n",
    "array = np.array(list1)\n",
    "\n",
    "print(array)"
   ]
  },
  {
   "cell_type": "code",
   "execution_count": 119,
   "id": "162d6c37",
   "metadata": {},
   "outputs": [
    {
     "name": "stdout",
     "output_type": "stream",
     "text": [
      "[0. 0. 0.]\n",
      "Type:  <class 'numpy.ndarray'>\n"
     ]
    }
   ],
   "source": [
    "import numpy as np\n",
    "\n",
    "# Creating array ith np.zeros()\n",
    "array1 = np.zeros(3);\n",
    "print(array1)\n",
    "print('Type: ',type(array1))"
   ]
  },
  {
   "cell_type": "code",
   "execution_count": 123,
   "id": "f1524226",
   "metadata": {},
   "outputs": [
    {
     "name": "stdout",
     "output_type": "stream",
     "text": [
      "[1 3 5 7]\n"
     ]
    }
   ],
   "source": [
    "import numpy as np\n",
    "\n",
    "# Creating array ith np.arrange()\n",
    "array2 = np.arange(1,9,2)\n",
    "print(array2)"
   ]
  },
  {
   "cell_type": "code",
   "execution_count": 128,
   "id": "03cdd666",
   "metadata": {},
   "outputs": [
    {
     "name": "stdout",
     "output_type": "stream",
     "text": [
      "[[[0.63619265 0.77105211 0.18256038]\n",
      "  [0.22021278 0.75341415 0.28529905]]\n",
      "\n",
      " [[0.27897082 0.45206746 0.61507006]\n",
      "  [0.81490475 0.41419329 0.45302611]]]\n"
     ]
    }
   ],
   "source": [
    "import numpy as np\n",
    "\n",
    "# Creating array using np.random.rand()\n",
    "arrayR = np.random.rand(2,2,3)\n",
    "print(arrayR)"
   ]
  },
  {
   "cell_type": "code",
   "execution_count": 133,
   "id": "d7e64d92",
   "metadata": {},
   "outputs": [
    {
     "name": "stdout",
     "output_type": "stream",
     "text": [
      "[0.68976528 0.00127473 0.24709133 0.73906397]\n"
     ]
    }
   ],
   "source": [
    "import numpy as np\n",
    "\n",
    "# Creating empty numpy array\n",
    "arrayE = np.empty(4)\n",
    "print(arrayE)"
   ]
  },
  {
   "cell_type": "code",
   "execution_count": 139,
   "id": "a772d6f7",
   "metadata": {},
   "outputs": [
    {
     "name": "stdout",
     "output_type": "stream",
     "text": [
      "[[[1 2 3 4]\n",
      "  [9 8 7 6]\n",
      "  [4 5 6 7]]\n",
      "\n",
      " [[1 2 3 4]\n",
      "  [9 8 7 6]\n",
      "  [4 5 6 7]]]\n"
     ]
    }
   ],
   "source": [
    "import numpy as np\n",
    "\n",
    "# Creating 2d array\n",
    "array2d = np.array([\n",
    "    [[1,2,3,4],\n",
    "    [9,8,7,6],\n",
    "    [4,5,6,7]],\n",
    "    \n",
    "    [[1,2,3,4],\n",
    "    [9,8,7,6],\n",
    "    [4,5,6,7]]\n",
    "])\n",
    "print(array2d)"
   ]
  },
  {
   "cell_type": "code",
   "execution_count": 145,
   "id": "a6aee99a",
   "metadata": {},
   "outputs": [
    {
     "name": "stdout",
     "output_type": "stream",
     "text": [
      "[[[[0. 0.]\n",
      "   [0. 0.]\n",
      "   [0. 0.]]\n",
      "\n",
      "  [[0. 0.]\n",
      "   [0. 0.]\n",
      "   [0. 0.]]\n",
      "\n",
      "  [[0. 0.]\n",
      "   [0. 0.]\n",
      "   [0. 0.]]\n",
      "\n",
      "  [[0. 0.]\n",
      "   [0. 0.]\n",
      "   [0. 0.]]\n",
      "\n",
      "  [[0. 0.]\n",
      "   [0. 0.]\n",
      "   [0. 0.]]\n",
      "\n",
      "  [[0. 0.]\n",
      "   [0. 0.]\n",
      "   [0. 0.]]\n",
      "\n",
      "  [[0. 0.]\n",
      "   [0. 0.]\n",
      "   [0. 0.]]\n",
      "\n",
      "  [[0. 0.]\n",
      "   [0. 0.]\n",
      "   [0. 0.]]\n",
      "\n",
      "  [[0. 0.]\n",
      "   [0. 0.]\n",
      "   [0. 0.]]]\n",
      "\n",
      "\n",
      " [[[0. 0.]\n",
      "   [0. 0.]\n",
      "   [0. 0.]]\n",
      "\n",
      "  [[0. 0.]\n",
      "   [0. 0.]\n",
      "   [0. 0.]]\n",
      "\n",
      "  [[0. 0.]\n",
      "   [0. 0.]\n",
      "   [0. 0.]]\n",
      "\n",
      "  [[0. 0.]\n",
      "   [0. 0.]\n",
      "   [0. 0.]]\n",
      "\n",
      "  [[0. 0.]\n",
      "   [0. 0.]\n",
      "   [0. 0.]]\n",
      "\n",
      "  [[0. 0.]\n",
      "   [0. 0.]\n",
      "   [0. 0.]]\n",
      "\n",
      "  [[0. 0.]\n",
      "   [0. 0.]\n",
      "   [0. 0.]]\n",
      "\n",
      "  [[0. 0.]\n",
      "   [0. 0.]\n",
      "   [0. 0.]]\n",
      "\n",
      "  [[0. 0.]\n",
      "   [0. 0.]\n",
      "   [0. 0.]]]\n",
      "\n",
      "\n",
      " [[[0. 0.]\n",
      "   [0. 0.]\n",
      "   [0. 0.]]\n",
      "\n",
      "  [[0. 0.]\n",
      "   [0. 0.]\n",
      "   [0. 0.]]\n",
      "\n",
      "  [[0. 0.]\n",
      "   [0. 0.]\n",
      "   [0. 0.]]\n",
      "\n",
      "  [[0. 0.]\n",
      "   [0. 0.]\n",
      "   [0. 0.]]\n",
      "\n",
      "  [[0. 0.]\n",
      "   [0. 0.]\n",
      "   [0. 0.]]\n",
      "\n",
      "  [[0. 0.]\n",
      "   [0. 0.]\n",
      "   [0. 0.]]\n",
      "\n",
      "  [[0. 0.]\n",
      "   [0. 0.]\n",
      "   [0. 0.]]\n",
      "\n",
      "  [[0. 0.]\n",
      "   [0. 0.]\n",
      "   [0. 0.]]\n",
      "\n",
      "  [[0. 0.]\n",
      "   [0. 0.]\n",
      "   [0. 0.]]]]\n"
     ]
    }
   ],
   "source": [
    "import numpy as np\n",
    "array = np.zeros((3,9,3,2))\n",
    "print(array)"
   ]
  },
  {
   "cell_type": "code",
   "execution_count": 161,
   "id": "8a606bad",
   "metadata": {
    "scrolled": true
   },
   "outputs": [
    {
     "name": "stdout",
     "output_type": "stream",
     "text": [
      "[1]\n"
     ]
    }
   ],
   "source": [
    "import numpy as np\n",
    "array = np.arange(1,2)\n",
    "print(array)"
   ]
  },
  {
   "cell_type": "code",
   "execution_count": 155,
   "id": "6ff203f4",
   "metadata": {},
   "outputs": [
    {
     "name": "stdout",
     "output_type": "stream",
     "text": [
      "[[[[0.87580371 0.33371254 0.9181444  0.21134129]\n",
      "   [0.16347456 0.07026958 0.2358564  0.46607333]\n",
      "   [0.87211942 0.05059262 0.75331327 0.49061125]]\n",
      "\n",
      "  [[0.68680874 0.50268695 0.45541406 0.39332773]\n",
      "   [0.9444337  0.09267646 0.30240115 0.32826351]\n",
      "   [0.57367597 0.63250906 0.90376509 0.23112611]]]\n",
      "\n",
      "\n",
      " [[[0.93880489 0.66459558 0.79019632 0.71926098]\n",
      "   [0.42386644 0.86327424 0.27439213 0.91507409]\n",
      "   [0.15975245 0.94118151 0.26539777 0.74040241]]\n",
      "\n",
      "  [[0.8580389  0.15598785 0.13520922 0.32666543]\n",
      "   [0.32707733 0.22073613 0.71042286 0.64202029]\n",
      "   [0.27141036 0.58059051 0.7956956  0.36263209]]]\n",
      "\n",
      "\n",
      " [[[0.50351982 0.94215619 0.52355392 0.36481873]\n",
      "   [0.70198624 0.00885478 0.69428563 0.09031548]\n",
      "   [0.94940649 0.0519505  0.20863736 0.75224377]]\n",
      "\n",
      "  [[0.38189014 0.99732134 0.37313413 0.00701763]\n",
      "   [0.01187678 0.84200294 0.35882585 0.01263609]\n",
      "   [0.36147824 0.76302189 0.65189927 0.37944979]]]]\n"
     ]
    }
   ],
   "source": [
    "import numpy as np\n",
    "array = np.random.rand(3,2,3,4)\n",
    "print(array)"
   ]
  },
  {
   "cell_type": "code",
   "execution_count": 171,
   "id": "ea4f4b4d",
   "metadata": {},
   "outputs": [
    {
     "name": "stdout",
     "output_type": "stream",
     "text": [
      "[[[5 5 5]\n",
      "  [5 5 5]]\n",
      "\n",
      " [[5 5 5]\n",
      "  [5 5 5]]]\n",
      "\n",
      "\n",
      " Type:  int32\n"
     ]
    }
   ],
   "source": [
    "import numpy as np\n",
    "\n",
    "# Creating N-D array ith specified value\n",
    "arrayND = np.full((2,2,3),5)\n",
    "print(arrayND)\n",
    "print(\"\\n\\n Type: \", arrayND.dtype)"
   ]
  },
  {
   "cell_type": "markdown",
   "id": "5725e354",
   "metadata": {},
   "source": [
    "## Numpy I/O Functions"
   ]
  },
  {
   "cell_type": "code",
   "execution_count": null,
   "id": "281dabac",
   "metadata": {},
   "outputs": [],
   "source": []
  }
 ],
 "metadata": {
  "kernelspec": {
   "display_name": "Python 3 (ipykernel)",
   "language": "python",
   "name": "python3"
  },
  "language_info": {
   "codemirror_mode": {
    "name": "ipython",
    "version": 3
   },
   "file_extension": ".py",
   "mimetype": "text/x-python",
   "name": "python",
   "nbconvert_exporter": "python",
   "pygments_lexer": "ipython3",
   "version": "3.10.9"
  }
 },
 "nbformat": 4,
 "nbformat_minor": 5
}
